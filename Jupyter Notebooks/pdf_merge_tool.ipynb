{
 "cells": [
  {
   "cell_type": "code",
   "execution_count": 1,
   "metadata": {},
   "outputs": [],
   "source": [
    "from tkinter import filedialog\n",
    "from tkinter import *\n",
    "files = []\n",
    "#files = ['DewhurstExample3.pdf', 'Dewhurst_Ex4Fig2.pdf' ]"
   ]
  },
  {
   "cell_type": "markdown",
   "metadata": {},
   "source": [
    "When running the cell below, use `ctrl` to select multiple files to combine"
   ]
  },
  {
   "cell_type": "code",
   "execution_count": 2,
   "metadata": {},
   "outputs": [
    {
     "name": "stdout",
     "output_type": "stream",
     "text": [
      "['C:/Users/jdewh/OneDrive - The University of Chicago/Third Year/PHYS 211/Jupyter Notebooks/Dewhurst_Ex4Fig2.pdf', 'C:/Users/jdewh/OneDrive - The University of Chicago/Third Year/PHYS 211/Jupyter Notebooks/DewhurstExample3.pdf']\n"
     ]
    }
   ],
   "source": [
    "%gui tk\n",
    "root = Tk()\n",
    "root.withdraw()\n",
    "root.call('wm', 'attributes', '.', '-topmost', True) # fix to make window appear in foreground\n",
    "root.filename =  filedialog.askopenfilenames(title = \"Select files\",filetypes = ((\"pdf files\",\"*.pdf\"),(\"all files\",\"*.*\")))\n",
    "files = list(root.filename)\n",
    "print (files)\n",
    "root.destroy()"
   ]
  },
  {
   "cell_type": "markdown",
   "metadata": {},
   "source": [
    "The cell below installs the PyPDF2 package, if you need it."
   ]
  },
  {
   "cell_type": "code",
   "execution_count": null,
   "metadata": {},
   "outputs": [],
   "source": [
    "import sys\n",
    "!{sys.executable} -m pip install PyPDF2"
   ]
  },
  {
   "cell_type": "code",
   "execution_count": null,
   "metadata": {},
   "outputs": [],
   "source": [
    "from PyPDF2 import PdfFileMerger\n",
    "\n",
    "merger = PdfFileMerger()\n",
    "\n",
    "for item in files:\n",
    "    merger.append(item)\n",
    "\n",
    "merger.write(\"PythonPlots.pdf\")\n",
    "merger.close()"
   ]
  },
  {
   "cell_type": "code",
   "execution_count": null,
   "metadata": {},
   "outputs": [],
   "source": []
  }
 ],
 "metadata": {
  "kernelspec": {
   "display_name": "Python 3 (ipykernel)",
   "language": "python",
   "name": "python3"
  },
  "language_info": {
   "codemirror_mode": {
    "name": "ipython",
    "version": 3
   },
   "file_extension": ".py",
   "mimetype": "text/x-python",
   "name": "python",
   "nbconvert_exporter": "python",
   "pygments_lexer": "ipython3",
   "version": "3.9.5"
  }
 },
 "nbformat": 4,
 "nbformat_minor": 2
}
